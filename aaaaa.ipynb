{
 "cells": [
  {
   "cell_type": "code",
   "execution_count": 3,
   "metadata": {},
   "outputs": [
    {
     "name": "stdout",
     "output_type": "stream",
     "text": [
      "Length of the first word 4\n",
      "first word: rage\n",
      "Length of the second word 5\n",
      "second word: egger\n",
      "both word can be connected with e\n"
     ]
    }
   ],
   "source": [
    "first_word = input('First Word: ')\n",
    "second_word = input('Second word: ')\n",
    "\n",
    "joined = \"\"\n",
    "for i in range(1, min(len(first_word), len(second_word)) + 1):\n",
    "    if first_word[-i:] == second_word[:i]:\n",
    "        joined = first_word[-i:]\n",
    "\n",
    "if joined:\n",
    "    print(\"Length of the first word\",len(first_word))\n",
    "    print(\"First word:\", first_word)\n",
    "    print(\"Length of the second word\",len(second_word))\n",
    "    print(\"Second word:\", second_word)\n",
    "    print(f\"both word can be connected with {joined}\")\n",
    "else:\n",
    "    print(\"Length of the first word\",len(first_word))\n",
    "    print(\"First word:\", first_word)\n",
    "    print(\"Length of the second word\",len(second_word))\n",
    "    print(\"Second word:\", second_word)\n",
    "    print(\"Both words cannot be linked\")"
   ]
  },
  {
   "cell_type": "code",
   "execution_count": 2,
   "metadata": {},
   "outputs": [
    {
     "name": "stdout",
     "output_type": "stream",
     "text": [
      "Length of the first word 3\n",
      "first word car\n",
      "Length of the second word 4\n",
      "second word rape\n",
      "both word can be connected with r\n"
     ]
    }
   ],
   "source": [
    "first_word = input('First Word: ')\n",
    "second_word = input('Second word: ')\n",
    "\n",
    "link = \"\"\n",
    "\n",
    "for i in range(1, min(len(first_word), len(second_word)) + 1):\n",
    "    if first_word[-i:] == second_word[:i]:\n",
    "        link = first_word[-i:]\n",
    "\n",
    "if link:\n",
    "    print(\"Length of the first word\",len(first_word))\n",
    "    print(\"First word:\", first_word)\n",
    "    print(\"Length of the second word\",len(second_word))\n",
    "    print(\"Second word:\", second_word)\n",
    "    print(\"both word can be connected with\", str(link))\n",
    "else:\n",
    "    print(\"Length of the first word\",len(first_word))\n",
    "    print(\"First word:\", first_word)\n",
    "    print(\"Length of the second word\",len(second_word))\n",
    "    print(\"Second word:\", second_word)\n",
    "    print(\"Both words cannot be linked\")"
   ]
  },
  {
   "cell_type": "code",
   "execution_count": 1,
   "metadata": {},
   "outputs": [
    {
     "name": "stdout",
     "output_type": "stream",
     "text": [
      "Input x: 13\n",
      "The smallest beautiful number divisible by 13 is 111111\n"
     ]
    }
   ],
   "source": [
    "user = int(input(\" Enter a number: \"))\n",
    "y = 0\n",
    "beautifulNumber = user\n",
    "while y == 0:\n",
    "    if beautifulNumber%user == 0:\n",
    "        userList = []\n",
    "        for x in str(beautifulNumber):\n",
    "            if int(x) in userList:\n",
    "                pass\n",
    "            else:\n",
    "                userList.append(int(x))\n",
    "\n",
    "        if len(userList) == 1:\n",
    "            y += 1\n",
    "            print(\"Input x:\",user)\n",
    "            print(f\"The smallest beautiful number divisible by\",user, \"is\" ,beautifulNumber)\n",
    "\n",
    "    beautifulNumber += 1"
   ]
  }
 ],
 "metadata": {
  "kernelspec": {
   "display_name": "Python 3",
   "language": "python",
   "name": "python3"
  },
  "language_info": {
   "codemirror_mode": {
    "name": "ipython",
    "version": 3
   },
   "file_extension": ".py",
   "mimetype": "text/x-python",
   "name": "python",
   "nbconvert_exporter": "python",
   "pygments_lexer": "ipython3",
   "version": "3.11.5"
  }
 },
 "nbformat": 4,
 "nbformat_minor": 2
}
